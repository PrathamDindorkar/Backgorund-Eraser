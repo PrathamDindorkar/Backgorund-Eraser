{
 "cells": [
  {
   "cell_type": "code",
   "execution_count": 1,
   "metadata": {},
   "outputs": [
    {
     "ename": "ValueError",
     "evalue": "unknown file extension: ",
     "output_type": "error",
     "traceback": [
      "\u001b[1;31m---------------------------------------------------------------------------\u001b[0m",
      "\u001b[1;31mKeyError\u001b[0m                                  Traceback (most recent call last)",
      "File \u001b[1;32m~\\AppData\\Local\\Packages\\PythonSoftwareFoundation.Python.3.11_qbz5n2kfra8p0\\LocalCache\\local-packages\\Python311\\site-packages\\PIL\\Image.py:2390\u001b[0m, in \u001b[0;36mImage.save\u001b[1;34m(self, fp, format, **params)\u001b[0m\n\u001b[0;32m   2389\u001b[0m \u001b[39mtry\u001b[39;00m:\n\u001b[1;32m-> 2390\u001b[0m     \u001b[39mformat\u001b[39m \u001b[39m=\u001b[39m EXTENSION[ext]\n\u001b[0;32m   2391\u001b[0m \u001b[39mexcept\u001b[39;00m \u001b[39mKeyError\u001b[39;00m \u001b[39mas\u001b[39;00m e:\n",
      "\u001b[1;31mKeyError\u001b[0m: ''",
      "\nThe above exception was the direct cause of the following exception:\n",
      "\u001b[1;31mValueError\u001b[0m                                Traceback (most recent call last)",
      "\u001b[1;32mc:\\Users\\prath\\Desktop\\backremov.ipynb Cell 1\u001b[0m line \u001b[0;36m9\n\u001b[0;32m      <a href='vscode-notebook-cell:/c%3A/Users/prath/Desktop/backremov.ipynb#W0sZmlsZQ%3D%3D?line=6'>7</a>\u001b[0m \u001b[39minput\u001b[39m \u001b[39m=\u001b[39m Image\u001b[39m.\u001b[39mopen(input_path)\n\u001b[0;32m      <a href='vscode-notebook-cell:/c%3A/Users/prath/Desktop/backremov.ipynb#W0sZmlsZQ%3D%3D?line=7'>8</a>\u001b[0m output \u001b[39m=\u001b[39m remove(\u001b[39minput\u001b[39m)\n\u001b[1;32m----> <a href='vscode-notebook-cell:/c%3A/Users/prath/Desktop/backremov.ipynb#W0sZmlsZQ%3D%3D?line=8'>9</a>\u001b[0m output\u001b[39m.\u001b[39;49msave(output_path)\n",
      "File \u001b[1;32m~\\AppData\\Local\\Packages\\PythonSoftwareFoundation.Python.3.11_qbz5n2kfra8p0\\LocalCache\\local-packages\\Python311\\site-packages\\PIL\\Image.py:2393\u001b[0m, in \u001b[0;36mImage.save\u001b[1;34m(self, fp, format, **params)\u001b[0m\n\u001b[0;32m   2391\u001b[0m     \u001b[39mexcept\u001b[39;00m \u001b[39mKeyError\u001b[39;00m \u001b[39mas\u001b[39;00m e:\n\u001b[0;32m   2392\u001b[0m         msg \u001b[39m=\u001b[39m \u001b[39mf\u001b[39m\u001b[39m\"\u001b[39m\u001b[39munknown file extension: \u001b[39m\u001b[39m{\u001b[39;00mext\u001b[39m}\u001b[39;00m\u001b[39m\"\u001b[39m\n\u001b[1;32m-> 2393\u001b[0m         \u001b[39mraise\u001b[39;00m \u001b[39mValueError\u001b[39;00m(msg) \u001b[39mfrom\u001b[39;00m \u001b[39me\u001b[39;00m\n\u001b[0;32m   2395\u001b[0m \u001b[39mif\u001b[39;00m \u001b[39mformat\u001b[39m\u001b[39m.\u001b[39mupper() \u001b[39mnot\u001b[39;00m \u001b[39min\u001b[39;00m SAVE:\n\u001b[0;32m   2396\u001b[0m     init()\n",
      "\u001b[1;31mValueError\u001b[0m: unknown file extension: "
     ]
    }
   ],
   "source": [
    "from rembg import remove\n",
    "from PIL import Image\n",
    "\n",
    "input_path = \"C:\\\\Users\\\\prath\\\\Desktop\\\\maclarenp1.jpg\"\n",
    "output_path = \"C:\\\\Users\\\\prath\\\\Desktop\"\n",
    "\n",
    "input = Image.open(input_path)\n",
    "output = remove(input)\n",
    "output.save(output_path)"
   ]
  },
  {
   "cell_type": "code",
   "execution_count": 3,
   "metadata": {},
   "outputs": [],
   "source": [
    "\n",
    "import tkinter as tk\n",
    "from rembg import remove\n",
    "from PIL import Image\n",
    "from tkinter import filedialog\n",
    "from PIL import Image\n",
    "import os\n",
    "from tkinter import messagebox\n",
    "\n",
    "\n",
    "top = tk.Tk()\n",
    "top.geometry(\"400x400\")\n",
    "top.title('Background Remover')\n",
    "\n",
    "filename = ''\n",
    "\n",
    "\n",
    "def upload_file():\n",
    "    global filename\n",
    "    f_types = [('Jpg Files', '*.jpg')]\n",
    "    filename = filedialog.askopenfilename(filetypes=f_types)\n",
    "    if len(filename) > 0:\n",
    "        b1.config(state='disabled')\n",
    "\n",
    "\n",
    "def Convert(image_name):\n",
    "    current_working_directory = os.getcwd()\n",
    "    input_path = filename\n",
    "    output_path = f'{current_working_directory}\\{image_name}.png'\n",
    "    image_input = Image.open(input_path)\n",
    "    output = remove(image_input)\n",
    "    output.save(output_path)\n",
    "    messagebox.showinfo('Success', 'Image background successfully removed')\n",
    "    top.destroy()\n",
    "\n",
    "\n",
    "my_font1 = ('times', 18, 'bold')\n",
    "\n",
    "l1 = tk.Label(top, text='Background Remover', width=30, font=my_font1)\n",
    "l1.grid(row=1, column=1)\n",
    "\n",
    "b1 = tk.Button(top, text='Select here', height=2, font=('Arial', 20), bg='green', fg='white', command=lambda: upload_file())\n",
    "b1.grid(row=2, column=1, pady=20)\n",
    "\n",
    "image_name = tk.StringVar(top)\n",
    "image_name.set('enter file name')\n",
    "\n",
    "e1 = tk.Entry(top, textvariable=image_name)\n",
    "e1.grid(row=3, column=1, pady=20)\n",
    "\n",
    "b2 = tk.Button(top, text='Convert now', height=2, font=('Arial', 20), bg='green', fg='white', command=lambda: Convert(image_name.get()))\n",
    "b2.grid(row=4, column=1, pady=20)\n",
    "\n",
    "top.mainloop()"
   ]
  }
 ],
 "metadata": {
  "kernelspec": {
   "display_name": "Python 3",
   "language": "python",
   "name": "python3"
  },
  "language_info": {
   "codemirror_mode": {
    "name": "ipython",
    "version": 3
   },
   "file_extension": ".py",
   "mimetype": "text/x-python",
   "name": "python",
   "nbconvert_exporter": "python",
   "pygments_lexer": "ipython3",
   "version": "3.11.6"
  }
 },
 "nbformat": 4,
 "nbformat_minor": 2
}
